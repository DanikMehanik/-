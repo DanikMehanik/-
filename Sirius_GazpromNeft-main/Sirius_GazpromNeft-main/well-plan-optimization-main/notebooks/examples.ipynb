{
 "cells": [
  {
   "cell_type": "code",
   "execution_count": 1,
   "metadata": {},
   "outputs": [],
   "source": [
    "from datetime import datetime, timedelta\n",
    "import pandas as pd\n",
    "\n",
    "from wellplan.core import TeamPool, Task\n",
    "from wellplan.services import (\n",
    "    TeamManager,\n",
    "    FileProductionProfile,\n",
    "    ArpsDeclineProductionProfile,\n",
    "    NPV,\n",
    "    BaseCapex,\n",
    "    BaseOpex,\n",
    "    ClusterRandomRiskStrategy,\n",
    "    DistanceTeamMovement,\n",
    "    OilConstraint,\n",
    "    CapexConstraint\n",
    ")\n",
    "from wellplan.services.visualization import GraphVisualizer, GantVisualizer, CapturePlot\n",
    "from wellplan.data.file.loader import ExcelWellLoader\n",
    "from wellplan.data.file.saver import ExcelPlanSaver\n",
    "from wellplan.builder import PlanBuilder"
   ]
  },
  {
   "cell_type": "code",
   "execution_count": 2,
   "metadata": {},
   "outputs": [
    {
     "name": "stderr",
     "output_type": "stream",
     "text": [
      "\u001b[32m2025-04-11 16:10:28.737\u001b[0m | \u001b[1mINFO    \u001b[0m | \u001b[36mwellplan.data.file.profile_loader\u001b[0m:\u001b[36m_load_cache\u001b[0m:\u001b[36m63\u001b[0m - \u001b[1mCache file for /home/ruslan/store/work_liga/Projects/well-plan-optimization/notebooks/external/profiles is detected\u001b[0m\n",
      "\u001b[32m2025-04-11 16:10:28.759\u001b[0m | \u001b[1mINFO    \u001b[0m | \u001b[36mwellplan.data.file.profile_loader\u001b[0m:\u001b[36mload\u001b[0m:\u001b[36m47\u001b[0m - \u001b[1mProcessing folder /home/ruslan/store/work_liga/Projects/well-plan-optimization/notebooks/external/profiles:\n",
      "            0 added,\n",
      "            0 removed,\n",
      "            0 modified files\u001b[0m\n"
     ]
    }
   ],
   "source": [
    "loader = ExcelWellLoader(\n",
    "    file_path=r\"external/Ввод ЭБ 1+11 Обезлич_v3.xlsx\",\n",
    ")\n",
    "wells = loader.load()\n",
    "production_profile = FileProductionProfile(folder_path='external/profiles')\n",
    "# production_profile = ArpsDeclineProductionProfile()\n",
    "coordinates = pd.read_excel(\n",
    "    r\"external/База перспективного ПФ (30.01.2025)_fixed.xlsm\",\n",
    "    header=0,\n",
    "    names=[\"cluster\", \"x\", \"y\", \"z\"],\n",
    ")\n",
    "movement = DistanceTeamMovement.from_dicts(coordinates.to_dict(orient=\"records\"))"
   ]
  },
  {
   "cell_type": "code",
   "execution_count": 8,
   "metadata": {},
   "outputs": [],
   "source": [
    "team_pool = TeamPool()\n",
    "team_pool.add_teams(['ГС'], num_teams=7)\n",
    "team_pool.add_teams(['грп'], num_teams=7)\n",
    "\n",
    "\n",
    "capex = BaseCapex(\n",
    "    build_cost_per_metr={\n",
    "        \"ГС+ГРП\": 25300,\n",
    "        \"ННС+ГРП\": 12900,\n",
    "        \"МЗС\": 27300,\n",
    "        \"МЗС+ГРП\": 28300,\n",
    "        \"ГС\": 23300,\n",
    "    },\n",
    "    equipment_cost=2500000,\n",
    ")\n",
    "\n",
    "opex = BaseOpex(\n",
    "    oil_cost_per_tone=109.9,\n",
    "    water_cost_per_tone=48.6,\n",
    "    repair_per_year=3093900,\n",
    "    maintain_per_year=2336200,\n",
    ")\n",
    "\n",
    "\n",
    "npv = NPV(\n",
    "    oil_price_per_tone=13896,\n",
    "    project_start_date=datetime.now(),\n",
    "    capex_cost=capex,\n",
    "    opex_cost=opex,\n",
    "    discount_rate=0.125,\n",
    ")\n",
    "\n",
    "constraints = [\n",
    "    CapexConstraint([{\n",
    "        \"year\": 2025,\n",
    "        'value': 500000000\n",
    "    }]),\n",
    "    OilConstraint([{\n",
    "        \"year\": 2025,\n",
    "        'value': 100000\n",
    "    },\n",
    "    {\n",
    "        \"year\": 2026,\n",
    "        'value': 50000\n",
    "    }\n",
    "        ]),\n",
    "]\n",
    "\n",
    "builder = PlanBuilder(\n",
    "    start=datetime.now(),\n",
    "    end=datetime.now() + timedelta(days=365 * 25),\n",
    "    cost_function=npv,\n",
    "    production_profile=production_profile,\n",
    "    constraints=constraints,\n",
    ")\n"
   ]
  },
  {
   "cell_type": "code",
   "execution_count": 9,
   "metadata": {},
   "outputs": [],
   "source": [
    "limits = {\n",
    "    2025: {Task.from_code(\"DRILLING\"): 2, Task.from_code(\"GTM\"): 2},\n",
    "    2026: {Task.from_code(\"DRILLING\"): 5, Task.from_code(\"GTM\"): 7},\n",
    "    2027: {Task.from_code(\"DRILLING\"): 3, Task.from_code(\"GTM\"): 3},\n",
    "}\n"
   ]
  },
  {
   "cell_type": "code",
   "execution_count": null,
   "metadata": {},
   "outputs": [],
   "source": [
    "plan = builder.compile(\n",
    "        wells,\n",
    "        manager=TeamManager(\n",
    "            team_pool=team_pool,\n",
    "            movement=movement,\n",
    "            # limits=limits,\n",
    "        ),\n",
    "        risk_strategy=ClusterRandomRiskStrategy(trigger_chance=0.0),\n",
    "    )\n",
    "print(plan)\n",
    "plan.total_profit()"
   ]
  },
  {
   "cell_type": "code",
   "execution_count": null,
   "metadata": {},
   "outputs": [],
   "source": [
    "saver = ExcelPlanSaver('plan.xlsx')\n",
    "saver.save(plan)"
   ]
  },
  {
   "cell_type": "code",
   "execution_count": null,
   "metadata": {},
   "outputs": [],
   "source": [
    "viz = GraphVisualizer(figsize=(50, 10))\n",
    "viz.render(plan)"
   ]
  },
  {
   "cell_type": "code",
   "execution_count": null,
   "metadata": {},
   "outputs": [],
   "source": [
    "viz = GantVisualizer(figsize=(30, 5))\n",
    "viz.render_by_teams(plan)"
   ]
  },
  {
   "cell_type": "code",
   "execution_count": null,
   "metadata": {},
   "outputs": [],
   "source": [
    "viz = GantVisualizer(figsize=(10, 30))\n",
    "viz.render(plan)"
   ]
  },
  {
   "cell_type": "code",
   "execution_count": null,
   "metadata": {},
   "outputs": [],
   "source": [
    "plans = []\n",
    "for i in range(5):\n",
    "    plan = builder.compile(\n",
    "        wells,\n",
    "        manager=TeamManager(\n",
    "            team_pool=team_pool,\n",
    "        ),\n",
    "        risk_strategy=ClusterRandomRiskStrategy(trigger_chance=0.1),\n",
    "    )\n",
    "    plans.append(plan)"
   ]
  },
  {
   "cell_type": "code",
   "execution_count": null,
   "metadata": {},
   "outputs": [],
   "source": [
    "viz = GraphVisualizer(figsize=(50, 10))\n",
    "viz.render_multiple(plans)"
   ]
  },
  {
   "cell_type": "code",
   "execution_count": null,
   "metadata": {},
   "outputs": [],
   "source": [
    "initial_plan = builder.compile(\n",
    "        wells,\n",
    "        manager=TeamManager(\n",
    "            team_pool=team_pool,\n",
    "            movement=movement,\n",
    "        ),\n",
    "        risk_strategy=ClusterRandomRiskStrategy(trigger_chance=0.0),\n",
    "        keep_order=True\n",
    "    )\n",
    "optimized_plan = builder.compile(\n",
    "        wells,\n",
    "        manager=TeamManager(\n",
    "            team_pool=team_pool,\n",
    "            movement=movement,\n",
    "        ),\n",
    "        risk_strategy=ClusterRandomRiskStrategy(trigger_chance=0.0),\n",
    "        keep_order=False\n",
    "    )\n",
    "viz = GraphVisualizer(figsize=(50, 30), title='Аккумулированный NPV')\n",
    "viz.render_multiple([initial_plan, optimized_plan])"
   ]
  },
  {
   "cell_type": "code",
   "execution_count": null,
   "metadata": {},
   "outputs": [],
   "source": [
    "optimized_plan.total_profit() - initial_plan.total_profit()"
   ]
  },
  {
   "cell_type": "code",
   "execution_count": null,
   "metadata": {},
   "outputs": [],
   "source": [
    "viz = GantVisualizer(figsize=(30, 12))\n",
    "viz.render_by_teams(initial_plan)"
   ]
  }
 ],
 "metadata": {
  "kernelspec": {
   "display_name": ".venv",
   "language": "python",
   "name": "python3"
  },
  "language_info": {
   "codemirror_mode": {
    "name": "ipython",
    "version": 3
   },
   "file_extension": ".py",
   "mimetype": "text/x-python",
   "name": "python",
   "nbconvert_exporter": "python",
   "pygments_lexer": "ipython3",
   "version": "3.12.9"
  }
 },
 "nbformat": 4,
 "nbformat_minor": 2
}
